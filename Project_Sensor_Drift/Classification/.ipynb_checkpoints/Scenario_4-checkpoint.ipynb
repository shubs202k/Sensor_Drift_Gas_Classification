{
 "cells": [
  {
   "cell_type": "markdown",
   "metadata": {},
   "source": [
    "## Shubhankar Kulkarni\n",
    "\n",
    "## Student ID : 013734422"
   ]
  },
  {
   "cell_type": "code",
   "execution_count": 1,
   "metadata": {},
   "outputs": [],
   "source": [
    "import pandas as pd\n",
    "import numpy as np\n",
    "from sklearn.model_selection import train_test_split,cross_val_score,LeaveOneOut, KFold,cross_val_predict,GridSearchCV\n",
    "from sklearn.metrics import classification_report,confusion_matrix,accuracy_score,mean_squared_error,precision_recall_fscore_support as score\n",
    "from sklearn.tree import DecisionTreeClassifier\n",
    "from sklearn.ensemble import RandomForestClassifier,GradientBoostingClassifier,VotingClassifier\n",
    "from sklearn.preprocessing import StandardScaler\n",
    "from sklearn.decomposition import PCA\n",
    "from sklearn.svm import SVC\n",
    "from matplotlib import pyplot as plt\n",
    "%matplotlib inline\n",
    "from sklearn.linear_model import LogisticRegression\n",
    "from sklearn.discriminant_analysis import LinearDiscriminantAnalysis\n",
    "from sklearn.neighbors import KNeighborsClassifier\n",
    "import warnings"
   ]
  },
  {
   "cell_type": "code",
   "execution_count": 2,
   "metadata": {},
   "outputs": [],
   "source": [
    "csv1 = pd.read_csv('batch1.dat', sep='\\s+', header=None, skiprows=1)\n",
    "csv2 = pd.read_csv('batch2.dat', sep='\\s+', header=None, skiprows=1)\n",
    "csv3 = pd.read_csv('batch3.dat', sep='\\s+', header=None, skiprows=1)\n",
    "csv4 = pd.read_csv('batch4.dat', sep='\\s+', header=None, skiprows=1)\n",
    "csv5 = pd.read_csv('batch5.dat', sep='\\s+', header=None, skiprows=1)\n",
    "csv6 = pd.read_csv('batch6.dat', sep='\\s+', header=None, skiprows=1)\n",
    "csv7 = pd.read_csv('batch7.dat', sep='\\s+', header=None, skiprows=1)\n",
    "csv8 = pd.read_csv('batch8.dat', sep='\\s+', header=None, skiprows=1)\n",
    "csv9 = pd.read_csv('batch9.dat', sep='\\s+', header=None, skiprows=1)\n",
    "csv10 = pd.read_csv('batch10.dat', sep='\\s+', header=None, skiprows=1)"
   ]
  },
  {
   "cell_type": "markdown",
   "metadata": {},
   "source": [
    "## Training and Test Split"
   ]
  },
  {
   "cell_type": "code",
   "execution_count": 3,
   "metadata": {},
   "outputs": [],
   "source": [
    "frames = [csv7,csv8,csv9]\n",
    "training = pd.concat(frames)\n",
    "\n",
    "frames1 = [csv10]\n",
    "test = pd.concat(frames1)"
   ]
  },
  {
   "cell_type": "code",
   "execution_count": 4,
   "metadata": {},
   "outputs": [
    {
     "data": {
      "text/plain": [
       "(4374, 129)"
      ]
     },
     "execution_count": 4,
     "metadata": {},
     "output_type": "execute_result"
    }
   ],
   "source": [
    "training.shape"
   ]
  },
  {
   "cell_type": "code",
   "execution_count": 5,
   "metadata": {},
   "outputs": [
    {
     "data": {
      "text/plain": [
       "(3599, 129)"
      ]
     },
     "execution_count": 5,
     "metadata": {},
     "output_type": "execute_result"
    }
   ],
   "source": [
    "test.shape"
   ]
  },
  {
   "cell_type": "code",
   "execution_count": 6,
   "metadata": {},
   "outputs": [],
   "source": [
    "X_train = training.iloc[:, 1:].values \n",
    "y_train = training.iloc[:,0].values\n",
    "\n",
    "X_test = test.iloc[:, 1:].values \n",
    "y_test = test.iloc[:,0].values"
   ]
  },
  {
   "cell_type": "markdown",
   "metadata": {},
   "source": [
    "## Feature Scaling"
   ]
  },
  {
   "cell_type": "code",
   "execution_count": 7,
   "metadata": {},
   "outputs": [],
   "source": [
    "sc = StandardScaler()\n",
    "X_train = sc.fit_transform(X_train)\n",
    "X_test = sc.transform(X_test)"
   ]
  },
  {
   "cell_type": "markdown",
   "metadata": {},
   "source": [
    "## Random Forest with Grid Search CV"
   ]
  },
  {
   "cell_type": "code",
   "execution_count": 16,
   "metadata": {},
   "outputs": [
    {
     "name": "stdout",
     "output_type": "stream",
     "text": [
      "Best Set of HyperParameters is {'criterion': 'entropy', 'n_estimators': 300}\n",
      "Accuracy of the Best Model is 94.33013260173753\n"
     ]
    }
   ],
   "source": [
    "warnings.simplefilter(\"ignore\")\n",
    "rf = RandomForestClassifier(random_state = 0)\n",
    "rf.fit(X_train, y_train)\n",
    "y_pred = rf.predict(X_test)\n",
    "parameters = {'n_estimators': [50,100,200,300,500],'criterion': ['gini','entropy']}\n",
    "\n",
    "grid_search = GridSearchCV(estimator = rf,\n",
    "                           param_grid = parameters,\n",
    "                           scoring = 'accuracy',\n",
    "                           cv = 3,\n",
    "                           n_jobs = -1)\n",
    "\n",
    "grid_search = grid_search.fit(X_train, y_train)\n",
    "best_accuracy = grid_search.best_score_ \n",
    "best_parameters = grid_search.best_params_ \n",
    "print(f'Best Set of HyperParameters is {best_parameters}')\n",
    "print(f'Accuracy of the Best Model is {best_accuracy*100}') "
   ]
  },
  {
   "cell_type": "markdown",
   "metadata": {},
   "source": [
    "## Random Forest with Cross Validation "
   ]
  },
  {
   "cell_type": "code",
   "execution_count": 11,
   "metadata": {},
   "outputs": [
    {
     "name": "stdout",
     "output_type": "stream",
     "text": [
      "Accuracy for  50 trees is 94.029\n",
      "Accuracy for 100 trees is 94.212\n",
      "Accuracy for 200 trees is 94.075\n",
      "Accuracy for 300 trees is 94.326\n",
      "Accuracy for 500 trees is 94.257\n"
     ]
    }
   ],
   "source": [
    "n_est = [50,100,200,300,500]\n",
    "validation_accuracies_random_forest = []\n",
    "for n in n_est:\n",
    "    rf = RandomForestClassifier(n_estimators = n, criterion = 'entropy', random_state = 0)\n",
    "    rf.fit(X_train, y_train)\n",
    "    x = cross_val_score(estimator = rf, X = X_train, y = y_train,cv=3).mean()*100\n",
    "    validation_accuracies_random_forest.append(x)\n",
    "    print(f'Accuracy for {n: >{3}} trees is {np.round(x,3):>{6}}')"
   ]
  },
  {
   "cell_type": "code",
   "execution_count": 12,
   "metadata": {},
   "outputs": [
    {
     "data": {
      "image/png": "[encoded data removed]",
      "text/plain": [
       "<Figure size 432x288 with 1 Axes>"
      ]
     },
     "metadata": {
      "needs_background": "light"
     },
     "output_type": "display_data"
    }
   ],
   "source": [
    "plt.plot(n_est,validation_accuracies_random_forest,'k-x')\n",
    "plt.xlabel('Number of Trees')\n",
    "plt.ylabel('Cross Validation Accuracy')\n",
    "plt.title('Number of Trees vs Accuracy for Random Forest with Cross Validation')\n",
    "plt.xticks(np.arange(0,600,50))\n",
    "plt.show()"
   ]
  },
  {
   "cell_type": "markdown",
   "metadata": {},
   "source": [
    "## Random Forest on Test Set Data"
   ]
  },
  {
   "cell_type": "code",
   "execution_count": 13,
   "metadata": {},
   "outputs": [
    {
     "name": "stdout",
     "output_type": "stream",
     "text": [
      "Number of Trees :   50  Precision : 0.619 / Recall :0.564/ Accuracy : 56.432\n",
      "Number of Trees :  100  Precision : 0.642 / Recall : 0.58/ Accuracy : 58.044\n",
      "Number of Trees :  200  Precision : 0.645 / Recall :0.586/ Accuracy : 58.572\n",
      "Number of Trees :  300  Precision : 0.647 / Recall :0.586/ Accuracy : 58.627\n",
      "Number of Trees :  500  Precision :  0.64 / Recall :0.583/ Accuracy : 58.266\n"
     ]
    }
   ],
   "source": [
    "n_est = [50,100,200,300,500]\n",
    "test_set_accuracies_random_forest = []\n",
    "for n in n_est:\n",
    "    rf = RandomForestClassifier(n_estimators = n,criterion = 'entropy', random_state = 0)\n",
    "    rf_model = rf.fit(X_train, y_train)\n",
    "    y_pred_rf = rf.predict(X_test)\n",
    "    random_forest_accuracy = accuracy_score(y_test, y_pred_rf,normalize = False)\n",
    "    random_forest_accuracy_rate = random_forest_accuracy/(len(y_test)) * 100\n",
    "    test_set_accuracies_random_forest.append(random_forest_accuracy_rate)\n",
    "    precision,recall,fscore,support = score(y_test , y_pred_rf,average = 'weighted')\n",
    "    print(f'Number of Trees : {n: >{4}}  Precision : {np.round(precision,3):>{5}} / Recall :{np.round(recall,3):>{5}}/ Accuracy : {np.round(random_forest_accuracy_rate,3):>{5}}')"
   ]
  },
  {
   "cell_type": "code",
   "execution_count": 15,
   "metadata": {},
   "outputs": [
    {
     "data": {
      "image/png": "[encoded data removed]",
      "text/plain": [
       "<Figure size 432x288 with 1 Axes>"
      ]
     },
     "metadata": {
      "needs_background": "light"
     },
     "output_type": "display_data"
    }
   ],
   "source": [
    "plt.plot(n_est,test_set_accuracies_random_forest,'r-x')\n",
    "plt.xlabel('Number of Trees')\n",
    "plt.ylabel('Test Set Accuracy')\n",
    "plt.title('Number of Trees vs Accuracy for Random Forest on Test Data')\n",
    "plt.xticks(np.arange(0,600,100))\n",
    "plt.show()"
   ]
  },
  {
   "cell_type": "markdown",
   "metadata": {},
   "source": [
    "## Random Forest with PCA"
   ]
  },
  {
   "cell_type": "code",
   "execution_count": 16,
   "metadata": {},
   "outputs": [
    {
     "name": "stdout",
     "output_type": "stream",
     "text": [
      "Accuracy of the Model with Principal Components 16 is 64.435\n",
      "Accuracy of the Model with Principal Components 32 is 64.379\n",
      "Accuracy of the Model with Principal Components 48 is 63.712\n",
      "Accuracy of the Model with Principal Components 64 is 64.129\n"
     ]
    }
   ],
   "source": [
    "n_components = [16,32,48,64]\n",
    "for n in n_components:    \n",
    "    pca = PCA(n_components = n)\n",
    "    X_train_transform = pca.fit_transform(X_train)\n",
    "    X_test_transform = pca.transform(X_test)\n",
    "    rf = RandomForestClassifier(n_estimators = 50, criterion = 'entropy', random_state = 0)\n",
    "    rf.fit(X_train_transform , y_train)\n",
    "    y_pred = rf.predict(X_test_transform)\n",
    "    PCA_Accuracy = accuracy_score(y_test, y_pred,normalize = False)\n",
    "    accuracy = PCA_Accuracy/(len(y_test))*100\n",
    "    print(f'Accuracy of the Model with Principal Components {n} is {round(accuracy,3):>{5}}')"
   ]
  },
  {
   "cell_type": "code",
   "execution_count": 23,
   "metadata": {},
   "outputs": [],
   "source": [
    "pca = PCA(n_components = 48)\n",
    "X_train_transform_pca = pca.fit_transform(X_train)\n",
    "X_test_transform_pca = pca.transform(X_test)"
   ]
  },
  {
   "cell_type": "markdown",
   "metadata": {},
   "source": [
    "## Random Forest with Cross Validation and PCA"
   ]
  },
  {
   "cell_type": "code",
   "execution_count": 18,
   "metadata": {},
   "outputs": [
    {
     "name": "stdout",
     "output_type": "stream",
     "text": [
      "Accuracy for  50 trees is 96.384\n",
      "Accuracy for 100 trees is 96.521\n",
      "Accuracy for 200 trees is 96.521\n",
      "Accuracy for 300 trees is 96.704\n",
      "Accuracy for 500 trees is 96.864\n"
     ]
    }
   ],
   "source": [
    "n_est = [50,100,200,300,500]\n",
    "validation_accuracies_random_forest_pca = []\n",
    "for n in n_est:\n",
    "    rf_pca = RandomForestClassifier(n_estimators = n, criterion = 'entropy', random_state = 0)\n",
    "    rf_pca.fit(X_train_transform_pca, y_train)\n",
    "    x = cross_val_score(estimator = rf_pca, X = X_train_transform_pca, y = y_train,cv=3).mean()*100\n",
    "    x = np.round(x,3)\n",
    "    validation_accuracies_random_forest_pca.append(x)\n",
    "    print(f'Accuracy for {n: >{3}} trees is {x:>{5}}')"
   ]
  },
  {
   "cell_type": "code",
   "execution_count": 19,
   "metadata": {},
   "outputs": [
    {
     "data": {
      "image/png": "[encoded data removed]",
      "text/plain": [
       "<Figure size 432x288 with 1 Axes>"
      ]
     },
     "metadata": {
      "needs_background": "light"
     },
     "output_type": "display_data"
    }
   ],
   "source": [
    "plt.plot(n_est,validation_accuracies_random_forest_pca,'k-x')\n",
    "plt.xlabel('Number of Trees')\n",
    "plt.ylabel('Validation Set Accuracy')\n",
    "plt.title('Number of Trees vs Accuracy for Random Forest with Cross Validation and PCA')\n",
    "plt.xticks(np.arange(0,600,50))\n",
    "plt.show()"
   ]
  },
  {
   "cell_type": "markdown",
   "metadata": {},
   "source": [
    "## Random Forest with PCA on Test Set Data"
   ]
  },
  {
   "cell_type": "code",
   "execution_count": 20,
   "metadata": {},
   "outputs": [
    {
     "name": "stdout",
     "output_type": "stream",
     "text": [
      "Accuracy of model with  50 trees is 62.49\n",
      "Accuracy of model with 100 trees is 63.295\n",
      "Accuracy of model with 200 trees is 64.129\n",
      "Accuracy of model with 300 trees is 65.129\n",
      "Accuracy of model with 500 trees is 65.324\n"
     ]
    }
   ],
   "source": [
    "n_est = [50,100,200,300,500]\n",
    "test_set_accuracies_random_forest_pca = []\n",
    "for n in n_est:\n",
    "    rf = RandomForestClassifier(n_estimators = n,criterion = 'entropy', random_state = 0)\n",
    "    rf_model = rf.fit(X_train_transform_pca, y_train)\n",
    "    y_pred = rf.predict(X_test_transform_pca)\n",
    "    random_forest_accuracy_pca = accuracy_score(y_test, y_pred,normalize = False)\n",
    "    random_forest_accuracy_rate_pca = random_forest_accuracy_pca/(len(y_test)) * 100\n",
    "    test_set_accuracies_random_forest_pca.append(random_forest_accuracy_rate_pca)\n",
    "    print(f'Accuracy of model with {n: >{3}} trees is {round(random_forest_accuracy_rate_pca,3):>{5}}') "
   ]
  },
  {
   "cell_type": "code",
   "execution_count": 21,
   "metadata": {},
   "outputs": [
    {
     "data": {
      "image/png": "[encoded data removed]",
      "text/plain": [
       "<Figure size 432x288 with 1 Axes>"
      ]
     },
     "metadata": {
      "needs_background": "light"
     },
     "output_type": "display_data"
    }
   ],
   "source": [
    "plt.plot(n_est,test_set_accuracies_random_forest_pca,'r-x')\n",
    "plt.xlabel('Number of Trees')\n",
    "plt.ylabel('Test Set Accuracy')\n",
    "plt.title('Number of Trees vs Accuracy for Random Forest with PCA on Test Data')\n",
    "plt.xticks(np.arange(0,600,50))\n",
    "plt.show()"
   ]
  },
  {
   "cell_type": "markdown",
   "metadata": {},
   "source": [
    "## SVM with Grid Search and Cross Validation"
   ]
  },
  {
   "cell_type": "code",
   "execution_count": 22,
   "metadata": {},
   "outputs": [
    {
     "name": "stdout",
     "output_type": "stream",
     "text": [
      "Best Set of HyperParameters is {'C': 1, 'decision_function_shape': 'ovo', 'gamma': 'scale', 'kernel': 'linear'}\n",
      "Accuracy of the Best Model is 0.965249199817101\n"
     ]
    }
   ],
   "source": [
    "svc = SVC(random_state = 0)\n",
    "svc.fit(X_train, y_train)\n",
    "parameters = {'C': [1,10,50,100,500,1000], 'kernel': ['linear','rbf'],'decision_function_shape' : ['ovo','ovr'],\n",
    "              'gamma' : ['scale','auto']}\n",
    "grid_search = GridSearchCV(estimator = svc,param_grid = parameters,scoring = 'accuracy',n_jobs = -1,cv=3)\n",
    "grid_search = grid_search.fit(X_train, y_train)\n",
    "best_accuracy = grid_search.best_score_ \n",
    "best_parameters = grid_search.best_params_\n",
    "print(f'Best Set of HyperParameters is {best_parameters}')\n",
    "print(f'Accuracy of the Best Model is {best_accuracy}')      \n",
    "              "
   ]
  },
  {
   "cell_type": "markdown",
   "metadata": {},
   "source": [
    "## SVM with Cross Validation"
   ]
  },
  {
   "cell_type": "code",
   "execution_count": 23,
   "metadata": {},
   "outputs": [
    {
     "name": "stdout",
     "output_type": "stream",
     "text": [
      "Accuracy with Penalty Parameter    1 is 92.335\n",
      "Accuracy with Penalty Parameter   10 is 94.713\n",
      "Accuracy with Penalty Parameter   50 is 96.246\n",
      "Accuracy with Penalty Parameter  100 is 96.246\n",
      "Accuracy with Penalty Parameter  500 is 95.172\n",
      "Accuracy with Penalty Parameter 1000 is 94.898\n"
     ]
    }
   ],
   "source": [
    "C = [1,10,50,100,500,1000]\n",
    "validation_accuracies_svc = []\n",
    "for i in C:\n",
    "    svc = SVC(C = i, kernel = 'rbf', random_state = 0, decision_function_shape = 'ovo' ,gamma = 'auto')\n",
    "    svc.fit(X_train, y_train)\n",
    "    x = cross_val_score(estimator = svc, X = X_train, y = y_train, cv=3).mean()*100\n",
    "    validation_accuracies_svc.append(x)\n",
    "    print(f'Accuracy with Penalty Parameter {i:>{4}} is {round(x,3):>{5}}') "
   ]
  },
  {
   "cell_type": "code",
   "execution_count": 24,
   "metadata": {},
   "outputs": [
    {
     "data": {
      "image/png": "[encoded data removed]",
      "text/plain": [
       "<Figure size 432x288 with 1 Axes>"
      ]
     },
     "metadata": {
      "needs_background": "light"
     },
     "output_type": "display_data"
    }
   ],
   "source": [
    "plt.plot(C,validation_accuracies_svc,'k-x')\n",
    "plt.xlabel('Penalty Parameter')\n",
    "plt.ylabel('Validation Set Accuracy')\n",
    "plt.title('Penalty Parameter vs Accuracy for SVC with Cross Validation')\n",
    "plt.xticks(np.arange(0,1100,100))\n",
    "plt.show()"
   ]
  },
  {
   "cell_type": "markdown",
   "metadata": {},
   "source": [
    "## SVC on Test Data"
   ]
  },
  {
   "cell_type": "code",
   "execution_count": 25,
   "metadata": {},
   "outputs": [
    {
     "name": "stdout",
     "output_type": "stream",
     "text": [
      "Penalty Parameter C :    1  Precision : 0.715 / Recall :0.655/ Accuracy : 65.518\n",
      "Penalty Parameter C :   10  Precision : 0.727 / Recall : 0.66/ Accuracy : 65.991\n",
      "Penalty Parameter C :   50  Precision : 0.729 / Recall :0.669/ Accuracy : 66.852\n",
      "Penalty Parameter C :  100  Precision : 0.734 / Recall :0.676/ Accuracy : 67.574\n",
      "Penalty Parameter C :  500  Precision : 0.631 / Recall :0.587/ Accuracy : 58.683\n",
      "Penalty Parameter C : 1000  Precision : 0.623 / Recall : 0.58/ Accuracy : 58.016\n"
     ]
    }
   ],
   "source": [
    "C = [1,10,50,100,500,1000]\n",
    "test_set_accuracies_svc = []\n",
    "for i in C:\n",
    "    svc = SVC(C = i, kernel = 'rbf', random_state = 0, decision_function_shape = 'ovo' ,gamma = 'auto')\n",
    "    svc.fit(X_train, y_train)\n",
    "    y_pred_svc = svc.predict(X_test)\n",
    "    svc_accuracy = accuracy_score(y_test, y_pred_svc,normalize = False)\n",
    "    svc_accuracy_rate = svc_accuracy/(len(y_test)) * 100\n",
    "    test_set_accuracies_svc.append(svc_accuracy_rate)\n",
    "    precision,recall,fscore,support = score(y_test , y_pred_svc,average = 'weighted')\n",
    "    print(f'Penalty Parameter C : {i: >{4}}  Precision : {np.round(precision,3):>{5}} / Recall :{np.round(recall,3):>{5}}/ Accuracy : {np.round(svc_accuracy_rate,3):>{5}}')"
   ]
  },
  {
   "cell_type": "code",
   "execution_count": 26,
   "metadata": {},
   "outputs": [
    {
     "data": {
      "image/png": "[encoded data removed]",
      "text/plain": [
       "<Figure size 432x288 with 1 Axes>"
      ]
     },
     "metadata": {
      "needs_background": "light"
     },
     "output_type": "display_data"
    }
   ],
   "source": [
    "plt.plot(C,test_set_accuracies_svc,'r-x')\n",
    "plt.xlabel('Penalty Parameter')\n",
    "plt.ylabel('Test Set Accuracy')\n",
    "plt.title('Penalty Parameter vs Accuracy for SVC on Test Data')\n",
    "plt.xticks(np.arange(0,1100,100))\n",
    "plt.show()"
   ]
  },
  {
   "cell_type": "markdown",
   "metadata": {},
   "source": [
    "## Decision Tree Classifier with GridSearchCV"
   ]
  },
  {
   "cell_type": "code",
   "execution_count": 27,
   "metadata": {},
   "outputs": [
    {
     "name": "stdout",
     "output_type": "stream",
     "text": [
      "Best Set of HyperParameters is {'criterion': 'entropy', 'splitter': 'best'}\n",
      "Accuracy of the Best Model is 0.8936899862825789\n"
     ]
    }
   ],
   "source": [
    "decision_tree = DecisionTreeClassifier(random_state=0)\n",
    "decision_tree.fit(X_train, y_train)\n",
    "parameters = {'criterion': ['gini','entropy'], 'splitter': ['best','random']}\n",
    "grid_search = GridSearchCV(estimator = decision_tree,param_grid = parameters,scoring = 'accuracy',n_jobs = -1,cv=3)\n",
    "grid_search = grid_search.fit(X_train, y_train)\n",
    "best_accuracy = grid_search.best_score_ \n",
    "best_parameters = grid_search.best_params_\n",
    "print(f'Best Set of HyperParameters is {best_parameters}')\n",
    "print(f'Accuracy of the Best Model is {best_accuracy}')    "
   ]
  },
  {
   "cell_type": "markdown",
   "metadata": {},
   "source": [
    "## Decision Tree with Cross Validation "
   ]
  },
  {
   "cell_type": "code",
   "execution_count": 28,
   "metadata": {},
   "outputs": [
    {
     "name": "stdout",
     "output_type": "stream",
     "text": [
      "Accuracy for Decision Tree Classifier is 89.365\n"
     ]
    }
   ],
   "source": [
    "decision_tree = DecisionTreeClassifier(random_state=0,criterion='entropy',splitter='best')\n",
    "decision_tree.fit(X_train, y_train)\n",
    "x = cross_val_score(estimator = decision_tree, X = X_train, y = y_train, cv=3).mean()*100\n",
    "print(f'Accuracy for Decision Tree Classifier is {round(x,3):>{5}}')"
   ]
  },
  {
   "cell_type": "markdown",
   "metadata": {},
   "source": [
    "## Decison Tree on Test Data"
   ]
  },
  {
   "cell_type": "code",
   "execution_count": 29,
   "metadata": {},
   "outputs": [
    {
     "name": "stdout",
     "output_type": "stream",
     "text": [
      "Precision :  0.57 / Recall :0.542/ Accuracy : 54.182\n"
     ]
    }
   ],
   "source": [
    "y_pred_dt = decision_tree.predict(X_test)\n",
    "decision_tree_accuracy = accuracy_score(y_test, y_pred_dt,normalize = False)\n",
    "decision_tree_accuracy_rate = decision_tree_accuracy/(len(y_test)) * 100\n",
    "precision,recall,fscore,support = score(y_test , y_pred_dt,average = 'weighted')\n",
    "print(f'Precision : {np.round(precision,3):>{5}} / Recall :{np.round(recall,3):>{5}}/ Accuracy : {np.round(decision_tree_accuracy_rate,3):>{5}}')"
   ]
  },
  {
   "cell_type": "markdown",
   "metadata": {},
   "source": [
    "## Gradient Boosting with Grid Search CV"
   ]
  },
  {
   "cell_type": "code",
   "execution_count": 100,
   "metadata": {},
   "outputs": [
    {
     "name": "stdout",
     "output_type": "stream",
     "text": [
      "Best Set of HyperParameters is {'learning_rate': 0.1, 'n_estimators': 500}\n",
      "Accuracy of the Best Model is 0.8943758573388203\n"
     ]
    }
   ],
   "source": [
    "gb = GradientBoostingClassifier(random_state = 0)\n",
    "gb.fit(X_train, y_train)\n",
    "y_pred = gb.predict(X_test)\n",
    "# Parameters to Evaluate to find which set of hyperparameters work the best\n",
    "param = {\n",
    "    'n_estimators' : [100,500],\n",
    "    'learning_rate' : [0.01,0.1]\n",
    "}\n",
    "gs = GridSearchCV(gb,param,cv=3,n_jobs=-1)\n",
    "gs.fit(X_train,y_train)\n",
    "best_accuracy = gs.best_score_ \n",
    "best_parameters = gs.best_params_\n",
    "print(f'Best Set of HyperParameters is {best_parameters}')\n",
    "print(f'Accuracy of the Best Model is {best_accuracy}')  \n"
   ]
  },
  {
   "cell_type": "code",
   "execution_count": 33,
   "metadata": {},
   "outputs": [
    {
     "name": "stdout",
     "output_type": "stream",
     "text": [
      "Accuracy for 500 trees is 89.43064115607665\n"
     ]
    }
   ],
   "source": [
    "gb = GradientBoostingClassifier(n_estimators = 500, learning_rate = 0.1, random_state = 0)\n",
    "gb.fit(X_train,y_train)\n",
    "x = cross_val_score(estimator = gb, X = X_train, y = y_train,cv=3).mean()*100\n",
    "print(f'Accuracy for 500 trees is {x}')"
   ]
  },
  {
   "cell_type": "code",
   "execution_count": 34,
   "metadata": {},
   "outputs": [
    {
     "name": "stdout",
     "output_type": "stream",
     "text": [
      "n_estimators : 500 ------- / --- Precision : 0.598 / Recall :0.549/ Accuracy : 54.932\n"
     ]
    }
   ],
   "source": [
    "gb = GradientBoostingClassifier(n_estimators = 500, learning_rate = 0.1, random_state = 0)\n",
    "gb.fit(X_train, y_train)\n",
    "y_pred_gb = gb.predict(X_test)\n",
    "gb_accuracy = accuracy_score(y_test, y_pred_gb,normalize = False)\n",
    "gb_accuracy_rate = gb_accuracy/(len(y_test)) * 100\n",
    "precision,recall,fscore,support = score(y_test,y_pred_gb,average = 'weighted')\n",
    "print('n_estimators : {} ------- / --- Precision : {} / Recall :{}/ Accuracy : {}'\n",
    "        .format(500,np.round(precision,3),np.round(recall,3),np.round(gb_accuracy_rate,3)))"
   ]
  },
  {
   "cell_type": "markdown",
   "metadata": {},
   "source": [
    "## Ensemble Voting Classifier"
   ]
  },
  {
   "cell_type": "code",
   "execution_count": 11,
   "metadata": {},
   "outputs": [
    {
     "name": "stdout",
     "output_type": "stream",
     "text": [
      "Precision : 0.756 / Recall :0.717/ Accuracy : 71.659\n"
     ]
    }
   ],
   "source": [
    "rf_ensemble = RandomForestClassifier(n_estimators = 300,criterion = 'entropy', random_state = 0)\n",
    "svc_ensemble = SVC(C = 100, kernel = 'rbf', random_state = 0, decision_function_shape = 'ovo' ,gamma = 'auto')\n",
    "gb_ensemble = GradientBoostingClassifier(n_estimators = 500, learning_rate = 0.1, random_state = 0)\n",
    "log_ensemble = LogisticRegression(random_state=0, solver='newton-cg',multi_class='multinomial')\n",
    "lda_ensemble = LinearDiscriminantAnalysis()\n",
    "knn_ensemble = KNeighborsClassifier(n_neighbors=5,weights='distance',algorithm ='auto',p=2)\n",
    "\n",
    "ensemble_classifier = VotingClassifier(estimators = [('Random Forest',rf_ensemble),\n",
    "                                                    ('SVC',svc_ensemble),('gradient_boosting',gb_ensemble),\n",
    "                                                    ('logistic',log_ensemble),('lda',lda_ensemble),\n",
    "                                                    ('KNN',knn_ensemble)],voting = 'hard')\n",
    "ensemble_classifier.fit(X_train,y_train)\n",
    "y_pred_ensemble = ensemble_classifier.predict(X_test)\n",
    "ensemble_accuracy = accuracy_score(y_test, y_pred_ensemble,normalize = False)\n",
    "ensemble_accuracy_rate = ensemble_accuracy/(len(y_test)) * 100\n",
    "precision,recall,fscore,support = score(y_test , y_pred_ensemble,average = 'weighted')\n",
    "print(f'Precision : {np.round(precision,3):>{5}} / Recall :{np.round(recall,3):>{5}}/ Accuracy : {np.round(ensemble_accuracy_rate,3):>{5}}')"
   ]
  },
  {
   "cell_type": "markdown",
   "metadata": {},
   "source": [
    "## Ensemble Voting Classifier with PCA"
   ]
  },
  {
   "cell_type": "code",
   "execution_count": 24,
   "metadata": {},
   "outputs": [
    {
     "name": "stdout",
     "output_type": "stream",
     "text": [
      "Precision : 0.728 / Recall :0.704/ Accuracy : 70.353\n"
     ]
    }
   ],
   "source": [
    "rf_ensemble = RandomForestClassifier(n_estimators = 300,criterion = 'entropy', random_state = 0)\n",
    "svc_ensemble = SVC(C = 100, kernel = 'rbf', random_state = 0, decision_function_shape = 'ovo' ,gamma = 'auto')\n",
    "gb_ensemble = GradientBoostingClassifier(n_estimators = 500, learning_rate = 0.1, random_state = 0)\n",
    "log_ensemble = LogisticRegression(random_state=0, solver='newton-cg',multi_class='multinomial')\n",
    "lda_ensemble = LinearDiscriminantAnalysis()\n",
    "knn_ensemble = KNeighborsClassifier(n_neighbors=5,weights='distance',algorithm ='auto',p=2)\n",
    "qda_ensemble = QuadraticDiscriminantAnalysis()\n",
    "\n",
    "ensemble_classifier = VotingClassifier(estimators = [('Random Forest',rf_ensemble),\n",
    "                                                    ('SVC',svc_ensemble),('gradient_boosting',gb_ensemble),\n",
    "                                                    ('logistic',log_ensemble),('lda',lda_ensemble),\n",
    "                                                    ('KNN',knn_ensemble),('qda',qda_ensemble)],voting = 'hard')\n",
    "ensemble_classifier.fit(X_train_transform_pca,y_train)\n",
    "y_pred_ensemble = ensemble_classifier.predict(X_test_transform_pca)\n",
    "ensemble_accuracy = accuracy_score(y_test, y_pred_ensemble,normalize = False)\n",
    "ensemble_accuracy_rate = ensemble_accuracy/(len(y_test)) * 100\n",
    "precision,recall,fscore,support = score(y_test , y_pred_ensemble,average = 'weighted')\n",
    "print(f'Precision : {np.round(precision,3):>{5}} / Recall :{np.round(recall,3):>{5}}/ Accuracy : {np.round(ensemble_accuracy_rate,3):>{5}}')"
   ]
  }
 ],
 "metadata": {
  "kernelspec": {
   "display_name": "Python 3",
   "language": "python",
   "name": "python3"
  },
  "language_info": {
   "codemirror_mode": {
    "name": "ipython",
    "version": 3
   },
   "file_extension": ".py",
   "mimetype": "text/x-python",
   "name": "python",
   "nbconvert_exporter": "python",
   "pygments_lexer": "ipython3",
   "version": "3.7.1rc2"
  }
 },
 "nbformat": 4,
 "nbformat_minor": 2
}
