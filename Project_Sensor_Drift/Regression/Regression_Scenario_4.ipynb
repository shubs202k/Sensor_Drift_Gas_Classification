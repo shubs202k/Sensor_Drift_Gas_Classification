{
 "cells": [
  {
   "cell_type": "markdown",
   "metadata": {},
   "source": [
    "## Shubhankar Kulkarni\n",
    "\n",
    "## Student ID : 013734422"
   ]
  },
  {
   "cell_type": "code",
   "execution_count": 62,
   "metadata": {},
   "outputs": [],
   "source": [
    "import pandas as pd\n",
    "import numpy as np\n",
    "from sklearn.metrics import mean_squared_error\n",
    "from sklearn.linear_model import LinearRegression\n",
    "from sklearn.preprocessing import Imputer\n",
    "import numpy as np\n",
    "from sklearn.linear_model import RidgeCV,Ridge,Lasso,LassoCV\n",
    "from sklearn.preprocessing import StandardScaler\n",
    "import warnings\n",
    "from sklearn.decomposition import PCA"
   ]
  },
  {
   "cell_type": "code",
   "execution_count": 63,
   "metadata": {},
   "outputs": [],
   "source": [
    "csv1 = pd.read_csv('batch1.dat', sep='\\s+', header=None, skiprows=1)\n",
    "csv2 = pd.read_csv('batch2.dat', sep='\\s+', header=None, skiprows=1)\n",
    "csv3 = pd.read_csv('batch3.dat', sep='\\s+', header=None, skiprows=1)\n",
    "csv4 = pd.read_csv('batch4.dat', sep='\\s+', header=None, skiprows=1)\n",
    "csv5 = pd.read_csv('batch5.dat', sep='\\s+', header=None, skiprows=1)\n",
    "csv6 = pd.read_csv('batch6.dat', sep='\\s+', header=None, skiprows=1)\n",
    "csv7 = pd.read_csv('batch7.dat', sep='\\s+', header=None, skiprows=1)\n",
    "csv8 = pd.read_csv('batch8.dat', sep='\\s+', header=None, skiprows=1)\n",
    "csv9 = pd.read_csv('batch9.dat', sep='\\s+', header=None, skiprows=1)\n",
    "csv10 = pd.read_csv('batch10.dat', sep='\\s+', header=None, skiprows=1)"
   ]
  },
  {
   "cell_type": "markdown",
   "metadata": {},
   "source": [
    "## Training and Test Split"
   ]
  },
  {
   "cell_type": "code",
   "execution_count": 70,
   "metadata": {},
   "outputs": [],
   "source": [
    "frames = [csv7,csv8,csv9]\n",
    "training = pd.concat(frames)\n",
    "\n",
    "frames1 = [csv10]\n",
    "test = pd.concat(frames1)"
   ]
  },
  {
   "cell_type": "code",
   "execution_count": 71,
   "metadata": {},
   "outputs": [
    {
     "data": {
      "text/plain": [
       "(4374, 130)"
      ]
     },
     "execution_count": 71,
     "metadata": {},
     "output_type": "execute_result"
    }
   ],
   "source": [
    "training.shape"
   ]
  },
  {
   "cell_type": "code",
   "execution_count": 72,
   "metadata": {},
   "outputs": [
    {
     "data": {
      "text/plain": [
       "(3599, 130)"
      ]
     },
     "execution_count": 72,
     "metadata": {},
     "output_type": "execute_result"
    }
   ],
   "source": [
    "test.shape"
   ]
  },
  {
   "cell_type": "code",
   "execution_count": 73,
   "metadata": {},
   "outputs": [],
   "source": [
    "X_train = training.iloc[:,[0,2,3,4,5,6,7,8,9,11,12,13,14,15,16,17,18,19,20,21,22,23,24,25,26,27,28,29,30,31,32,33,34,35,36,37,38,39,40,41,42,43,44,45,46,47,48,49,50,51,52,53,54,55,56,57,58,59,60,61,62,63,64,65,66,67,68,69,70,71,72,73,74,75,76,77,78,79,80,81,82,83,84,85,86,87,88,89,90,91,92,93,94,95,96,97,98,99,100,101,102,103,104,105,106,107,108,109,110,111,112,113,114,115,116,117,118,119,120,121,122,123,124,125,126,127,128,129]].values\n",
    "y_train = training.iloc[:,1].values\n",
    "\n",
    "X_test = test.iloc[:,[0,2,3,4,5,6,7,8,9,11,12,13,14,15,16,17,18,19,20,21,22,23,24,25,26,27,28,29,30,31,32,33,34,35,36,37,38,39,40,41,42,43,44,45,46,47,48,49,50,51,52,53,54,55,56,57,58,59,60,61,62,63,64,65,66,67,68,69,70,71,72,73,74,75,76,77,78,79,80,81,82,83,84,85,86,87,88,89,90,91,92,93,94,95,96,97,98,99,100,101,102,103,104,105,106,107,108,109,110,111,112,113,114,115,116,117,118,119,120,121,122,123,124,125,126,127,128,129]].values\n",
    "y_test = test.iloc[:,1].values"
   ]
  },
  {
   "cell_type": "markdown",
   "metadata": {},
   "source": [
    "## Feature Scaling"
   ]
  },
  {
   "cell_type": "code",
   "execution_count": 74,
   "metadata": {},
   "outputs": [],
   "source": [
    "sc = StandardScaler()\n",
    "X_train = sc.fit_transform(X_train)\n",
    "X_test = sc.transform(X_test)"
   ]
  },
  {
   "cell_type": "markdown",
   "metadata": {},
   "source": [
    "## Multiple Linear Regression"
   ]
  },
  {
   "cell_type": "code",
   "execution_count": 75,
   "metadata": {},
   "outputs": [
    {
     "name": "stdout",
     "output_type": "stream",
     "text": [
      "MSE for Linear Regression is 35448.88910850425\n"
     ]
    }
   ],
   "source": [
    "regressor = LinearRegression()\n",
    "regressor.fit(X_train,y_train)\n",
    "y_pred = regressor.predict(X_test)\n",
    "MSE = mean_squared_error(y_test, y_pred)\n",
    "print(f'MSE for Linear Regression is {MSE}')"
   ]
  },
  {
   "cell_type": "markdown",
   "metadata": {},
   "source": [
    "## Ridge Regression with Cross Validation"
   ]
  },
  {
   "cell_type": "code",
   "execution_count": 76,
   "metadata": {},
   "outputs": [
    {
     "name": "stdout",
     "output_type": "stream",
     "text": [
      "Best alpha using built-in RidgeCV: 0.188247\n",
      "MSE value for Ridge Regression using best value of alpha is 32636.15464698899\n"
     ]
    }
   ],
   "source": [
    "alphas = 10**np.linspace(10,-2,100)*0.5\n",
    "reg = RidgeCV(alphas=alphas, store_cv_values=True)\n",
    "reg.fit(X_train, y_train)\n",
    "cv_mse = np.mean(reg.cv_values_, axis=0)\n",
    "print(\"Best alpha using built-in RidgeCV: %f\" % reg.alpha_)\n",
    "reg = Ridge(alpha=reg.alpha_)\n",
    "reg.fit(X_train, y_train)\n",
    "y_pred_Ridge = reg.predict(X_test)\n",
    "MSE = mean_squared_error(y_test, y_pred_Ridge)\n",
    "print(F'MSE value for Ridge Regression using best value of alpha is {MSE}')"
   ]
  },
  {
   "cell_type": "markdown",
   "metadata": {},
   "source": [
    "## Lasso Regression with Cross Validation"
   ]
  },
  {
   "cell_type": "code",
   "execution_count": 77,
   "metadata": {},
   "outputs": [
    {
     "name": "stdout",
     "output_type": "stream",
     "text": [
      "Best alpha using built-in LassoCV: 0.046630\n",
      "MSE value for Lasso Regression using best value of alpha is 25624.056838775807\n"
     ]
    }
   ],
   "source": [
    "warnings.simplefilter(\"ignore\")\n",
    "lassoCV = LassoCV(alphas=alphas, max_iter=10000, cv=10)\n",
    "lassoCV.fit(X_train, y_train)\n",
    "print(\"Best alpha using built-in LassoCV: %f\" % lassoCV.alpha_)\n",
    "lasso = Lasso(alpha=lassoCV.alpha_)\n",
    "lasso.fit(X_train, y_train)\n",
    "y_pred_Lasso = lasso.predict(X_test)\n",
    "MSE = mean_squared_error(y_test, y_pred_Lasso)\n",
    "print(F'MSE value for Lasso Regression using best value of alpha is {MSE}')"
   ]
  },
  {
   "cell_type": "markdown",
   "metadata": {},
   "source": [
    "## Regression with PCA"
   ]
  },
  {
   "cell_type": "code",
   "execution_count": 78,
   "metadata": {},
   "outputs": [
    {
     "name": "stdout",
     "output_type": "stream",
     "text": [
      "MSE of the Model with Principal Components 16 is 27266.806956822515\n",
      "MSE of the Model with Principal Components 32 is 98114.59102196149\n",
      "MSE of the Model with Principal Components 48 is 93744.50890193839\n",
      "MSE of the Model with Principal Components 64 is 21133.41664333017\n",
      "MSE of the Model with Principal Components 80 is 26706.38367924466\n",
      "MSE of the Model with Principal Components 96 is 31199.526825815283\n"
     ]
    }
   ],
   "source": [
    "n_components = [16,32,48,64,80,96]\n",
    "for n in n_components:    \n",
    "    pca = PCA(n_components = n)\n",
    "    X_train_transform = pca.fit_transform(X_train)\n",
    "    X_test_transform = pca.transform(X_test)\n",
    "    regressor_pca = LinearRegression()\n",
    "    regressor_pca.fit(X_train_transform,y_train)\n",
    "    y_pred_PCA = regressor_pca.predict(X_test_transform)\n",
    "    MSE = mean_squared_error(y_test, y_pred_PCA)\n",
    "    print(f'MSE of the Model with Principal Components {n} is {MSE}')"
   ]
  },
  {
   "cell_type": "code",
   "execution_count": null,
   "metadata": {},
   "outputs": [],
   "source": []
  }
 ],
 "metadata": {
  "kernelspec": {
   "display_name": "Python 3",
   "language": "python",
   "name": "python3"
  },
  "language_info": {
   "codemirror_mode": {
    "name": "ipython",
    "version": 3
   },
   "file_extension": ".py",
   "mimetype": "text/x-python",
   "name": "python",
   "nbconvert_exporter": "python",
   "pygments_lexer": "ipython3",
   "version": "3.7.1rc2"
  }
 },
 "nbformat": 4,
 "nbformat_minor": 2
}
